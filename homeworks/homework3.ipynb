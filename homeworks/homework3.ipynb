{
 "cells": [
  {
   "cell_type": "markdown",
   "metadata": {
    "id": "5uUUOTZBOoAR"
   },
   "source": [
    "## Домашня работа 3.\n",
    "## KNN. Решающие деревья.\n",
    "\n",
    "Дедлайн 8 ноября в 21:00.\n",
    "\n",
    "\n",
    "\n",
    "Максимальная оценка - 10 баллов.\n",
    "\n",
    "Не списывайте 👒\n",
    "\n",
    "Не бойтесь рисовать картинки и применять другие методы, даже если не просили 👒"
   ]
  },
  {
   "cell_type": "code",
   "execution_count": null,
   "metadata": {},
   "outputs": [],
   "source": [
    "print('Всем удачи!👒)"
   ]
  },
  {
   "cell_type": "markdown",
   "metadata": {},
   "source": [
    "**Задание 1 (3 балла)** Реализуйте свой собственный класс для KNN. Сделайте возможность выбора метрики расстояния: евклидова или манхэттанская.\n",
    "\n",
    "**Важно:** если вам тяжело работать с классом, можете написать функцию или последовательность функций для реализации KNN. В этом случае вы можете получить не более **2 баллов** за задание. "
   ]
  },
  {
   "cell_type": "code",
   "execution_count": 1,
   "metadata": {
    "id": "TFum114bLdjb"
   },
   "outputs": [],
   "source": [
    "class KNNClassifier():\n",
    "    def __init__(self, n_neighbors=5,\n",
    "                 p=2):\n",
    "        \"\"\"\n",
    "        n_neighbors : int, default=5\n",
    "            Number of neighbors to use by default.\n",
    "\n",
    "        p : int, default=2\n",
    "            Power parameter for the Minkowski metric. When p = 1, this is\n",
    "            equivalent to using manhattan_distance (l1), and euclidean_distance\n",
    "            (l2) for p = 2.\n",
    "        \"\"\"\n",
    "        pass\n",
    "\n",
    "\n",
    "    def fit(self, X, y):\n",
    "        \"\"\"\n",
    "        Fit the k-nearest neighbors classifier from the training dataset.\n",
    "\n",
    "        Parameters\n",
    "        ----------\n",
    "        X : matrix of shape (n_samples, n_features)\n",
    "            Training data.\n",
    "        y : array of shape (n_samples,) \n",
    "            Target values.\n",
    "\n",
    "        Returns\n",
    "        -------\n",
    "        self : KNeighborsClassifier\n",
    "            The fitted k-nearest neighbors classifier.\n",
    "        \"\"\"\n",
    "        pass\n",
    "\n",
    "    def predict(self, X):\n",
    "        \"\"\"\n",
    "        Predict the class labels for the provided data.\n",
    "        \n",
    "        Parameters\n",
    "        ----------\n",
    "        X : matrix of shape (n_test_samples, n_features)\n",
    "            Test samples.\n",
    "\n",
    "        Returns\n",
    "        -------\n",
    "        y : array of shape (n_test_samples,) \n",
    "            Class labels for each data sample.\n",
    "        \"\"\"\n",
    "        pass"
   ]
  },
  {
   "cell_type": "markdown",
   "metadata": {},
   "source": [
    "**Задание 2 (2  балла)** \n",
    "Обучите свой KNN для предсказания наличия болезни сердца. Данные лежат [здесь](https://github.com/AsyaKarpova/ml_nes_2020/blob/master/homeworks/heart_hw3.csv).\n",
    "\n",
    "\n",
    "Описание для любопытных  👒:\n",
    "\n",
    "- age - age in years\n",
    "\n",
    "- sex - (1 = male; 0 = female)\n",
    "\n",
    "- cpchest - pain type\n",
    "\n",
    "- trestbpsresting - blood pressure (in mm Hg on admission to the hospital)\n",
    "\n",
    "- cholserum - cholestoral in mg/dl\n",
    "\n",
    "- fbs - (fasting blood sugar > 120 mg/dl) (1 = true; 0 = false)\n",
    "\n",
    "- restecg - resting electrocardiographic results\n",
    "\n",
    "- thalach - maximum heart rate achieved\n",
    "\n",
    "- exang - exercise induced angina (1 = yes; 0 = no)\n",
    "\n",
    "- oldpeak - ST depression induced by exercise relative to rest\n",
    "\n",
    "- slope - the slope of the peak exercise ST segment\n",
    "\n",
    "- ca - number of major vessels (0-3) colored by flourosopy\n",
    "\n",
    "- thal - 3 = normal; 6 = fixed defect; 7 = reversable defect\n",
    "\n",
    "\n",
    "\n",
    "\n",
    "Поэкспериментируйте с различным сочетанием числа соседей и метрик расстояния. \n",
    "Оцените качество на кросс-валидации с помощью `sklearn.model_selection.cross_val_score`, в качестве метрики используйте `accuracy` (`scoring=accuracy`)."
   ]
  },
  {
   "cell_type": "code",
   "execution_count": 2,
   "metadata": {},
   "outputs": [],
   "source": [
    "# your code"
   ]
  },
  {
   "cell_type": "markdown",
   "metadata": {},
   "source": [
    "**Задание 3 (2 балла)** На этих же данных обучите логистическую регрессию с дефолтными гиперпараметрами. Сравните качество. Ожидали ли вы такие результаты? \n",
    "Вспомнив пройденный материал (~включив воображение~), напишите несколько достоинств и недостатков KNN и логистической регресии."
   ]
  },
  {
   "cell_type": "code",
   "execution_count": null,
   "metadata": {},
   "outputs": [],
   "source": [
    "# your code"
   ]
  },
  {
   "cell_type": "markdown",
   "metadata": {},
   "source": [
    "**KNN**:\n",
    "\n",
    "-\n",
    "\n",
    "-\n",
    "\n",
    "\n",
    "**Логистическая регрессия**:\n",
    "\n",
    "-\n",
    "\n",
    "-\n",
    "\n"
   ]
  },
  {
   "cell_type": "markdown",
   "metadata": {},
   "source": [
    "**Задание 4 (2 балла)** Для этой же задачи обучите решающее дерево с дефолтными гиперпараметрами. Затем попробуйте подобрать значения гиперпараметров с помощью `sklearn.model_selection.GridSearchCV`.  \n",
    "Сравните качество с рассмотренными выше методами. Аналогично предыдущему заданию, приведите достоинства и недостатки метода. Поразмышляйте над влиянием гиперпараметров на качество обучения."
   ]
  },
  {
   "cell_type": "code",
   "execution_count": 3,
   "metadata": {},
   "outputs": [],
   "source": [
    "# your code"
   ]
  },
  {
   "cell_type": "markdown",
   "metadata": {},
   "source": [
    "**Решающие деревья:**\n",
    "\n",
    "-\n",
    "\n",
    "-\n"
   ]
  },
  {
   "cell_type": "markdown",
   "metadata": {},
   "source": [
    "**Задание 5 (1 балл)** Нарисуйте ваше дерево с помощью `export_graphviz`. Или любого другого [способа](https://mljar.com/blog/visualize-decision-tree), позволяющего представлять работу деревьев 👒"
   ]
  },
  {
   "cell_type": "code",
   "execution_count": null,
   "metadata": {},
   "outputs": [],
   "source": [
    "# your code for wonderful plot"
   ]
  },
  {
   "cell_type": "markdown",
   "metadata": {},
   "source": [
    "**Задание 6 (0 баллов к домашке, 100 баллов к карме)** Порадуйте ассистента красивой картинкой дерева или леса 👒"
   ]
  },
  {
   "cell_type": "code",
   "execution_count": null,
   "metadata": {},
   "outputs": [],
   "source": [
    "# insert picture"
   ]
  }
 ],
 "metadata": {
  "colab": {
   "name": "Копия блокнота \"Build_Week_CS_1.ipynb\"",
   "provenance": []
  },
  "kernelspec": {
   "display_name": "Python 3",
   "language": "python",
   "name": "python3"
  },
  "language_info": {
   "codemirror_mode": {
    "name": "ipython",
    "version": 3
   },
   "file_extension": ".py",
   "mimetype": "text/x-python",
   "name": "python",
   "nbconvert_exporter": "python",
   "pygments_lexer": "ipython3",
   "version": "3.7.1"
  }
 },
 "nbformat": 4,
 "nbformat_minor": 1
}
